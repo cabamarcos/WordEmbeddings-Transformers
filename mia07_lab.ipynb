{
  "cells": [
    {
      "cell_type": "markdown",
      "metadata": {
        "id": "view-in-github",
        "colab_type": "text"
      },
      "source": [
        "<a href=\"https://colab.research.google.com/github/cabamarcos/PLN2/blob/main/mia07_lab.ipynb\" target=\"_parent\"><img src=\"https://colab.research.google.com/assets/colab-badge.svg\" alt=\"Open In Colab\"/></a>"
      ]
    },
    {
      "cell_type": "markdown",
      "metadata": {
        "id": "ktFg2jj3jTE6"
      },
      "source": [
        "# ACTIVIDAD DE CLASIFICACIÓN DE TEXTO"
      ]
    },
    {
      "cell_type": "markdown",
      "metadata": {
        "id": "MZ-OuW5DiLJs"
      },
      "source": [
        "En esta actividad vamos a trabajar en clasificar textos. Se recorrerá todo el proceso desde traer el dataset hasta proceder a dicha clasificación. Durante la actividad se llevarán a cabo muchos procesos como la creación de un vocabulario, el uso de embeddings y la creación de modelos.\n",
        "\n",
        "Las cuestiones presentes en esta actividad están basadas en un Notebook creado por François Chollet, uno de los creadores de Keras y autor del libro \"Deep Learning with Python\".\n",
        "\n",
        "En este Notebook se trabaja con el dataset \"Newsgroup20\" que contiene aproximadamente 20000 mensajes que pertenecen a 20 categorías diferentes.\n",
        "\n",
        "El objetivo es entender los conceptos que se trabajan y ser capaz de hacer pequeñas experimentaciones para mejorar el Notebook creado."
      ]
    },
    {
      "cell_type": "markdown",
      "metadata": {
        "id": "hytURWLLjZvT"
      },
      "source": [
        "# Librerías"
      ]
    },
    {
      "cell_type": "code",
      "execution_count": 1,
      "metadata": {
        "id": "DbxRuvOwkzSs"
      },
      "outputs": [],
      "source": [
        "import numpy as np\n",
        "import tensorflow as tf\n",
        "from tensorflow import keras"
      ]
    },
    {
      "cell_type": "markdown",
      "metadata": {
        "id": "PXfYbCflkQYy"
      },
      "source": [
        "# Descarga de Datos"
      ]
    },
    {
      "cell_type": "code",
      "execution_count": 2,
      "metadata": {
        "id": "e-1ZhOf3lB_A",
        "colab": {
          "base_uri": "https://localhost:8080/"
        },
        "outputId": "288ff5b0-0281-4235-c933-13db6e21a01d"
      },
      "outputs": [
        {
          "output_type": "stream",
          "name": "stdout",
          "text": [
            "Downloading data from http://www.cs.cmu.edu/afs/cs.cmu.edu/project/theo-20/www/data/news20.tar.gz\n",
            "\u001b[1m17329808/17329808\u001b[0m \u001b[32m━━━━━━━━━━━━━━━━━━━━\u001b[0m\u001b[37m\u001b[0m \u001b[1m10s\u001b[0m 1us/step\n"
          ]
        }
      ],
      "source": [
        "data_path = keras.utils.get_file(\n",
        "    \"news20.tar.gz\",\n",
        "    \"http://www.cs.cmu.edu/afs/cs.cmu.edu/project/theo-20/www/data/news20.tar.gz\",\n",
        "    untar=True,\n",
        ")"
      ]
    },
    {
      "cell_type": "code",
      "execution_count": 3,
      "metadata": {
        "id": "l3ygvoWhlCYj",
        "colab": {
          "base_uri": "https://localhost:8080/"
        },
        "outputId": "80344dfd-fd5f-4725-f40a-0eb4169a62c2"
      },
      "outputs": [
        {
          "output_type": "stream",
          "name": "stdout",
          "text": [
            "Number of directories: 20\n",
            "Directory names: ['rec.sport.hockey', 'sci.med', 'sci.crypt', 'talk.politics.misc', 'talk.religion.misc', 'comp.sys.mac.hardware', 'rec.motorcycles', 'comp.graphics', 'misc.forsale', 'sci.space', 'rec.autos', 'talk.politics.guns', 'talk.politics.mideast', 'comp.windows.x', 'comp.os.ms-windows.misc', 'rec.sport.baseball', 'alt.atheism', 'sci.electronics', 'soc.religion.christian', 'comp.sys.ibm.pc.hardware']\n"
          ]
        }
      ],
      "source": [
        "import os\n",
        "import pathlib\n",
        "\n",
        "#Estructura de directorios del dataset\n",
        "data_dir = pathlib.Path(data_path) / \"20_newsgroup\"\n",
        "dirnames = os.listdir(data_dir)\n",
        "print(\"Number of directories:\", len(dirnames))\n",
        "print(\"Directory names:\", dirnames)"
      ]
    },
    {
      "cell_type": "code",
      "execution_count": 4,
      "metadata": {
        "id": "uED3yrSl2kFH",
        "colab": {
          "base_uri": "https://localhost:8080/"
        },
        "outputId": "7bb1a36e-d05a-46aa-875b-309d11c5642b"
      },
      "outputs": [
        {
          "output_type": "stream",
          "name": "stdout",
          "text": [
            "/root/.keras/datasets/news20_extracted/20_newsgroup\n"
          ]
        }
      ],
      "source": [
        "print(data_dir)"
      ]
    },
    {
      "cell_type": "code",
      "execution_count": 5,
      "metadata": {
        "id": "OG8rjgOFlcaV",
        "colab": {
          "base_uri": "https://localhost:8080/"
        },
        "outputId": "19b0867b-5372-4fca-9b25-b8fe382047e1"
      },
      "outputs": [
        {
          "output_type": "stream",
          "name": "stdout",
          "text": [
            "Number of files in comp.graphics: 1000\n",
            "Some example filenames: ['39669', '37922', '38379', '38225', '38544']\n"
          ]
        }
      ],
      "source": [
        "#Algunos archivos de la categoria \"com.graphics\"\n",
        "fnames = os.listdir(data_dir / \"comp.graphics\")\n",
        "print(\"Number of files in comp.graphics:\", len(fnames))\n",
        "print(\"Some example filenames:\", fnames[:5])"
      ]
    },
    {
      "cell_type": "code",
      "execution_count": 6,
      "metadata": {
        "id": "8ox6s6z9lgps",
        "colab": {
          "base_uri": "https://localhost:8080/"
        },
        "outputId": "d5789aa9-2eb0-41d7-8371-57d453640343"
      },
      "outputs": [
        {
          "output_type": "stream",
          "name": "stdout",
          "text": [
            "Xref: cantaloupe.srv.cs.cmu.edu comp.graphics:37261 alt.graphics:519 comp.graphics.animation:2614\n",
            "Path: cantaloupe.srv.cs.cmu.edu!das-news.harvard.edu!ogicse!uwm.edu!zaphod.mps.ohio-state.edu!darwin.sura.net!dtix.dt.navy.mil!oasys!lipman\n",
            "From: lipman@oasys.dt.navy.mil (Robert Lipman)\n",
            "Newsgroups: comp.graphics,alt.graphics,comp.graphics.animation\n",
            "Subject: CALL FOR PRESENTATIONS: Navy SciViz/VR Seminar\n",
            "Message-ID: <32850@oasys.dt.navy.mil>\n",
            "Date: 19 Mar 93 20:10:23 GMT\n",
            "Article-I.D.: oasys.32850\n",
            "Expires: 30 Apr 93 04:00:00 GMT\n",
            "Reply-To: lipman@oasys.dt.navy.mil (Robert Lipman)\n",
            "Followup-To: comp.graphics\n",
            "Distribution: usa\n",
            "Organization: Carderock Division, NSWC, Bethesda, MD\n",
            "Lines: 65\n",
            "\n",
            "\n",
            "\t\t\tCALL FOR PRESENTATIONS\n",
            "\t\n",
            "      NAVY SCIENTIFIC VISUALIZATION AND VIRTUAL REALITY SEMINAR\n",
            "\n",
            "\t\t\tTuesday, June 22, 1993\n",
            "\n",
            "\t    Carderock Division, Naval Surface Warfare Center\n",
            "\t      (formerly the David Taylor Research Center)\n",
            "\t\t\t  Bethesda, Maryland\n",
            "\n",
            "SPONSOR: NESS (Navy Engineering Software System) is sponsoring a \n",
            "one-day Navy Scientific Visualization and Virtual Reality Seminar.  \n",
            "The purpose of the seminar is to present and exchange information for\n",
            "Navy-related scientific visualization and virtual reality programs, \n",
            "research, developments, and applications.\n",
            "\n",
            "PRESENTATIONS: Presentations are solicited on all aspects of \n",
            "Navy-related scientific visualization and virtual reality.  All \n",
            "current work, works-in-progress, and proposed work by Navy \n",
            "organizations will be considered.  Four types of presentations are \n",
            "available.\n",
            "\n",
            "     1. Regular presentation: 20-30 minutes in length\n",
            "     2. Short presentation: 10 minutes in length\n",
            "     3. Video presentation: a stand-alone videotape (author need not \n",
            "\tattend the seminar)\n",
            "     4. Scientific visualization or virtual reality demonstration (BYOH)\n",
            "\n",
            "Accepted presentations will not be published in any proceedings, \n",
            "however, viewgraphs and other materials will be reproduced for \n",
            "seminar attendees.\n",
            "\n",
            "ABSTRACTS: Authors should submit a one page abstract and/or videotape to:\n",
            "\n",
            "     Robert Lipman\n",
            "     Naval Surface Warfare Center, Carderock Division\n",
            "     Code 2042\n",
            "     Bethesda, Maryland  20084-5000\n",
            "\n",
            "     VOICE (301) 227-3618;  FAX (301) 227-5753  \n",
            "     E-MAIL  lipman@oasys.dt.navy.mil\n",
            "\n",
            "Authors should include the type of presentation, their affiliations, \n",
            "addresses, telephone and FAX numbers, and addresses.  Multi-author \n",
            "papers should designate one point of contact.\n",
            "\n",
            "DEADLINES: The abstact submission deadline is April 30, 1993.  \n",
            "Notification of acceptance will be sent by May 14, 1993.  \n",
            "Materials for reproduction must be received by June 1, 1993.\n",
            "\n",
            "For further information, contact Robert Lipman at the above address.\n",
            "\n",
            "\t  PLEASE DISTRIBUTE AS WIDELY AS POSSIBLE, THANKS.\n",
            "\n",
            "\n",
            "\n",
            "\n",
            "Robert Lipman                     | Internet: lipman@oasys.dt.navy.mil\n",
            "David Taylor Model Basin - CDNSWC |       or: lip@ocean.dt.navy.mil\n",
            "Computational Signatures and      | Voicenet: (301) 227-3618\n",
            "   Structures Group, Code 2042    | Factsnet: (301) 227-5753\n",
            "Bethesda, Maryland  20084-5000    | Phishnet: stockings@long.legs\n",
            "\t\t\t\t   \n",
            "The sixth sick shiek's sixth sheep's sick.\n",
            "\n"
          ]
        }
      ],
      "source": [
        "#Ejemplo de un texto de la categoría \"com.graphics\"\n",
        "print(open(data_dir / \"comp.graphics\" / \"37261\").read())"
      ]
    },
    {
      "cell_type": "markdown",
      "source": [
        "El código está bien pero vamo sa usar una semilla para que el resultado sea reproducible"
      ],
      "metadata": {
        "id": "U3rSdH5ypkya"
      }
    },
    {
      "cell_type": "code",
      "execution_count": 7,
      "metadata": {
        "id": "rRA3C-UO2kFI",
        "colab": {
          "base_uri": "https://localhost:8080/"
        },
        "outputId": "3f6d73c7-257b-42dd-c0b9-99f09a33948b"
      },
      "outputs": [
        {
          "output_type": "stream",
          "name": "stdout",
          "text": [
            "Número promedio de tokens en la muestra de 15 archivos: 241.66666666666666\n"
          ]
        }
      ],
      "source": [
        "import spacy\n",
        "import en_core_web_sm\n",
        "import random\n",
        "nlp = en_core_web_sm.load()\n",
        "\n",
        "# total_tokens=0\n",
        "# for i in (range(15)):\n",
        "#     doc = nlp(pathlib.Path(data_dir / \"comp.graphics\" / fnames[i]).read_text(encoding=\"latin-1\"))\n",
        "#     doc.__len__()\n",
        "#     total_tokens+=doc.__len__()\n",
        "\n",
        "# average_tokens = total_tokens/15\n",
        "\n",
        "# print(average_tokens)\n",
        "# Fijar la semilla para la reproducibilidad\n",
        "random.seed(42)\n",
        "\n",
        "# Seleccionar 15 archivos aleatorios de la categoría 'comp.graphics'\n",
        "sample_files = random.sample(fnames, 15)\n",
        "\n",
        "token_counts = []\n",
        "\n",
        "for file in sample_files:\n",
        "    file_path = data_dir / \"comp.graphics\" / file\n",
        "    with open(file_path, \"r\", encoding=\"latin-1\") as f:\n",
        "        text = f.read()\n",
        "        doc = nlp(text)\n",
        "        token_counts.append(len(doc))\n",
        "\n",
        "# Calcular el número promedio de tokens\n",
        "average_tokens = sum(token_counts) / len(token_counts)\n",
        "\n",
        "print(\"Número promedio de tokens en la muestra de 15 archivos:\", average_tokens)"
      ]
    },
    {
      "cell_type": "code",
      "source": [
        "import spacy\n",
        "import random\n",
        "import numpy as np\n",
        "import pathlib\n",
        "import os\n",
        "\n",
        "# Cargar modelo de spaCy\n",
        "nlp = spacy.load(\"en_core_web_sm\")\n",
        "\n",
        "# Fijar la semilla para la reproducibilidad\n",
        "random.seed(42)\n",
        "\n",
        "# Obtener la estructura de directorios del dataset\n",
        "data_dir = pathlib.Path(data_path) / \"20_newsgroup\"\n",
        "dirnames = os.listdir(data_dir)\n",
        "\n",
        "token_counts = []\n",
        "word_counts = []\n",
        "\n",
        "# Procesar todos los archivos en el dataset\n",
        "for dirname in dirnames:\n",
        "    category_path = data_dir / dirname\n",
        "    if not category_path.is_dir():\n",
        "        continue\n",
        "\n",
        "    for file in os.listdir(category_path):\n",
        "        file_path = category_path / file\n",
        "        with open(file_path, \"r\", encoding=\"latin-1\") as f:\n",
        "            text = f.read()\n",
        "            doc = nlp(text)\n",
        "            token_counts.append(len(doc))\n",
        "            word_counts.append(len([token for token in doc if token.is_alpha]))\n",
        "\n",
        "# Calcular el número promedio de tokens en todo el dataset\n",
        "average_tokens = sum(token_counts) / len(token_counts)\n",
        "# Calcular el número promedio de palabras en todo el dataset\n",
        "average_words = sum(word_counts) / len(word_counts)\n",
        "\n",
        "print(\"Número promedio de tokens en todo el dataset:\", average_tokens)\n",
        "print(\"Número promedio de palabras en todo el dataset:\", average_words)"
      ],
      "metadata": {
        "colab": {
          "base_uri": "https://localhost:8080/"
        },
        "id": "ionFFY2SrsRd",
        "outputId": "bcacddda-f967-4c97-825a-ad6189e839f0"
      },
      "execution_count": 8,
      "outputs": [
        {
          "output_type": "stream",
          "name": "stderr",
          "text": [
            "/usr/local/lib/python3.11/dist-packages/spacy/util.py:1740: UserWarning: [W111] Jupyter notebook detected: if using `prefer_gpu()` or `require_gpu()`, include it in the same cell right before `spacy.load()` to ensure that the model is loaded on the correct device. More information: http://spacy.io/usage/v3#jupyter-notebook-gpu\n",
            "  warnings.warn(Warnings.W111)\n"
          ]
        },
        {
          "output_type": "stream",
          "name": "stdout",
          "text": [
            "Número promedio de tokens en todo el dataset: 469.12666900035003\n",
            "Número promedio de palabras en todo el dataset: 270.8842326348952\n"
          ]
        }
      ]
    },
    {
      "cell_type": "code",
      "execution_count": 9,
      "metadata": {
        "id": "vUbbjI8plaG0",
        "colab": {
          "base_uri": "https://localhost:8080/"
        },
        "outputId": "f3f5a6b8-ca5b-4033-8090-41e4caa4a66b"
      },
      "outputs": [
        {
          "output_type": "stream",
          "name": "stdout",
          "text": [
            "Number of files in talk.politics.misc: 1000\n",
            "Some example filenames: ['178692', '178799', '179012', '177023', '178932']\n"
          ]
        }
      ],
      "source": [
        "#Algunos archivos de la categoria \"talk.politics.misc\"\n",
        "fnames = os.listdir(data_dir / \"talk.politics.misc\")\n",
        "print(\"Number of files in talk.politics.misc:\", len(fnames))\n",
        "print(\"Some example filenames:\", fnames[:5])"
      ]
    },
    {
      "cell_type": "code",
      "source": [
        "print(open(data_dir / \"talk.politics.misc\" / \"178799\").read())"
      ],
      "metadata": {
        "colab": {
          "base_uri": "https://localhost:8080/"
        },
        "id": "01BSKH5BOvv7",
        "outputId": "cb0453fa-e820-40f8-b4e4-46e6e4eea0ce"
      },
      "execution_count": 10,
      "outputs": [
        {
          "output_type": "stream",
          "name": "stdout",
          "text": [
            "Xref: cantaloupe.srv.cs.cmu.edu talk.politics.misc:178799 alt.society.civil-liberty:9098 misc.legal:60857 bit.listserv.lawsch-l:982\n",
            "Path: cantaloupe.srv.cs.cmu.edu!crabapple.srv.cs.cmu.edu!fs7.ece.cmu.edu!europa.eng.gtefsd.com!howland.reston.ans.net!noc.near.net!uunet!enterpoop.mit.edu!senator-bedfellow.mit.edu!senator-bedfellow.mit.edu!usenet\n",
            "From: wdstarr@athena.mit.edu (William December Starr)\n",
            "Newsgroups: talk.politics.misc,alt.society.civil-liberty,misc.legal,bit.listserv.lawsch-l\n",
            "Subject: Re: Law and Economics\n",
            "Date: 21 Apr 1993 14:33:22 GMT\n",
            "Organization: Northeastern Law, Class of '93\n",
            "Lines: 234\n",
            "Message-ID: <1r3lviINN125@senator-bedfellow.MIT.EDU>\n",
            "References: <1993Apr11.155955.23346@midway.uchicago.edu> <1qjq2nINN7ql@senator-bedfellow.MIT.EDU> <1993Apr15.143623.25813@midway.uchicago.edu>\n",
            "NNTP-Posting-Host: nw12-326-1.mit.edu\n",
            "In-reply-to: thf2@midway.uchicago.edu\n",
            "\n",
            "\n",
            "I'm going to be mixing together here stuff from two of Ted Frank's\n",
            "articles, <1993Apr15.143623.25813@midway.uchicago.edu> (which was a\n",
            "response to me) and <1993Apr16.011455.20518@midway.uchicago.edu> (a\n",
            "response to Tim Smith)...\n",
            "\n",
            "> > (Yes, I know, the _Boomer_ court didn't call it eminent domain.  But\n",
            "> > if it walks like eminent domain and swims like eminent domain and\n",
            "> > quacks like eminent domain...)  [wdstarr]\n",
            ">\n",
            "> Are all tort cases really eminent domain cases then?  What about\n",
            "> bankruptcy?  Contract?\n",
            "\n",
            "Eminent domain is a state-mandated transaction in which one party is\n",
            "required to sell a piece of property which it owns to another party,\n",
            "regardless of whether the first party wishes to sell at all, at a price\n",
            "which is set by the state.  I fail to see how this doctrine can be found\n",
            "in tort, bankruptcy or contract cases in general.  Well, okay, sort of\n",
            "in bankruptcy...\n",
            "\n",
            "*  *  *  *  *\n",
            "\n",
            ">> If so, so what?  Since when are the courts supposed to be in the\n",
            ">> business of preventing parties from reaping windfall settlements\n",
            ">> from other parties when those settlements arise from wrongful acts\n",
            ">> by those other parties?  [wdstarr]\n",
            ">\n",
            "> Since you said that _Boomer_'s reliance on economics led to an unjust\n",
            "> result.  I'm pointing out that your alternative is far more unjust, in\n",
            "> the traditional sense of the world.\n",
            ">\n",
            "> [Atlantic Cement's] act was not wrongful.  It did something that we as\n",
            "> a capitalistic society should want them to do: build a factory, create\n",
            "> industry and jobs.  The cost of compliance was grossly\n",
            "> disproportionate to the damage faced by plaintiffs.\n",
            "\n",
            "Bang.  Here's one of the places where we widely diverge.  You believe\n",
            "that the courts, in deciding a civil dispute between two parties, should\n",
            "consider as a factor -- perhaps as an overriding factor -- issues which\n",
            "I believe the court should ignore as being irrelevant to the dispute.\n",
            "_Boomer v.  Atlantic Cement Co._ was an action brought by one party,\n",
            "Boomer, whose property rights were being violated on an ongoing basis by\n",
            "another party, the Atlantic Cement Company.  The facts supported\n",
            "Boomer's contention that Atlantic Cement was wrongfully damaging his\n",
            "property, and Boomer asked the court to order Atlantic Cement to stop\n",
            "doing so.  End of story.  There was no reason for the court to consider\n",
            "such issues as what a capitalistic society would want Atlantic Cement to\n",
            "do or whether the cost of compliance was disproportionate to the damage\n",
            "faced by the plaintiffs.  Those issues had nothing to do with the case\n",
            "before the court.\n",
            "\n",
            "> Bill, if the government had stepped in and the EPA made a regulation\n",
            "> requiring multi-million dollar cement plants to be shut down because\n",
            "> of a smattering of cement dust, at a cost-benefit ratio of 15+:1,\n",
            "> you'd be up in arms.  Why is it okay for the judicial branch to\n",
            "> interfere this way, but not the legislative or executive branches?\n",
            "\n",
            "I'd be up in arms?  Why do you assume that?  Quite the contrary, I'd\n",
            "probably support the action, since it would be based on the same general\n",
            "doctrine as the decision that I believe would have been correct in\n",
            "_Boomer_: the idea that people's property rights should not be violated\n",
            "for reasons of economic efficiency.  In _Boomer_ it was Boomer's\n",
            "property rights which I believe the court should have protected; in the\n",
            "hypothetical EPA ruling you've presented, it's the American people's\n",
            "collective property rights in a healthy physical environment.  What\n",
            "good is cost-benefit ratio of 15+:1 if you wind up with cement dust in\n",
            "your air?\n",
            "\n",
            "*  *  *  *  *\n",
            "\n",
            ">>> Your rule makes it per se illegal to ever operate a cement plant.\n",
            ">>> If the State of Massachusetts came up with a similar regulation,\n",
            ">>> you'd be up in arms and complaining about interference with\n",
            ">>> property rights, and Fifth Amendment violations.  Once again--why\n",
            ">>> is it okay for the judicial branch to interfere this way, but not\n",
            ">>> the legislative or executive branches?  Or are you not the\n",
            ">>> libertarian you present yourself as being?  [Ted Frank]\n",
            ">>\n",
            ">> How would it be per se illegal to operate a cement plant?  Wouldn't\n",
            ">> it just mean that when buying land for a cement plant, you would\n",
            ">> have to either buy enough land so that most of the pollution would\n",
            ">> stay on your land, or buy pollution easements from the surrounding\n",
            ">> landowners?  [Tim Smith]\n",
            ">\n",
            "> All it takes is one holdout out of hundreds of neighbors to scrap the\n",
            "> plant.  Furthermore, each of the neighbors is going to want the full\n",
            "> benefit of the bargain under the resulting bilateral monopoly.  A\n",
            "> bonanza for lawyers, to be sure, who get to negotiate each of these\n",
            "> agreements, a windfall for homeowners who can extort away any profits\n",
            "> the plant would make, but not particularly good for society.\n",
            "\n",
            "Yes.  So what?  The courts are supposed to protect the specific rights\n",
            "of individuals, not the general interests of some nebulous society.  If\n",
            "society can have its cement plant without violating anyone's rights,\n",
            "fine.  Otherwise society will somehow have to limp along with one less\n",
            "cement plant.  (See, Ted, I really _am_ a libertarian after all! :-)\n",
            "\n",
            "> That's the whole point behind the Coase Theorem.  In a world without\n",
            "> transactions costs, the land will automatically be put to the best\n",
            "> use, as it is transferred from person to person instantaneously\n",
            "> without friction; the legal regime will not matter, because the result\n",
            "> will be the same.  In a world such as ours, one with transactions\n",
            "> costs, one wants the legal regime to approximate the end result to\n",
            "> begin with, in order to minimize the transactions costs.\n",
            "\n",
            "\"One wants the legal regime to approximate the end result to begin with,\n",
            "in order to minimize the transactions costs.\"???  Which \"one\" are you\n",
            "speaking of?  _I_ want the legal regime to protect people's rights.\n",
            "Besides, Coase's Theorem only has real application in the never-never\n",
            "land of perfectly rational actors.  In the real world (1) some people\n",
            "are going to be stubborn, ornery, spiteful or otherwise \"irrational\"\n",
            "from a economic point of view and (2) the purpose of the courts is to\n",
            "protect their right to be so.  I don't care if you can show me logically\n",
            "that your cattle are only doing $100 of damage to my property per head,\n",
            "so I should rationally sell you grazing rights to my land for, say, $150\n",
            "per head -- I still retain the right to tell you that I just plain don't\n",
            "want any damned cattle on my property, not at any price.\n",
            "\n",
            "*   *   *   *   *\n",
            "\n",
            ">> And then you say: \"Everyone's property rights were protected; the\n",
            ">> plaintiffs were made whole; unnecessary settlement costs were\n",
            ">> avoided.\"  As above, I dispute your claim that the plaintiffs were\n",
            ">> \"made whole.\"  They were, in fact, by court action deprived of their\n",
            ">> rights as owners of property to choose to sell or not sell that\n",
            ">> property at a price acceptable to them.  [wdstarr]\n",
            ">\n",
            "> Then, by your argument, no tort plaintiff is ever made whole, because\n",
            "> the award of damages in involuntary.  Why should we treat a nuisance\n",
            "> plaintiff any different than any other tort plaintiff?  We don't\n",
            "> require specific performance in the analogous contractual situation;\n",
            "> why in tort?\n",
            "\n",
            "Last question first: For the same reason as in contract law -- because\n",
            "to do so would come dangerously close to treading on the Thirteenth\n",
            "Amendment.\n",
            "\n",
            "As to your \"Then, by your argument, no tort plaintiff is ever made\n",
            "whole, because the award of damages in involuntary\" claim, you're at\n",
            "least partially right.  Faced with situations in which the wrong has\n",
            "already been done and the damage to the victim has already taken place\n",
            "and cannot be reversed or undone, courts will try to set an equitable\n",
            "price tag on the loss suffered by the victim and require the wrongdoer\n",
            "to pay this price (rather than an inflated price which the victim might\n",
            "prefer).  In these cases, the \"sale\" has already taken place and is\n",
            "irreversible, and the court simply tries to ensure that a fair price is\n",
            "paid, under the doctrines that (a) only in certain circumstances should\n",
            "even a civil wrongdoer be forced to pay punitive or excessive prices and\n",
            "(b) even a genuine victim should not profit in an unjustified or\n",
            "inequitable manner from his victimhood.  Both of these doctrines may be\n",
            "worth discussing or debating elsewhere, but neither is relevant to cases\n",
            "like _Boomer_ in which the wrongful act and the loss stemming from it\n",
            "are still in the future and _can_ be reversed/undone (i.e., prevented\n",
            "from happening at all) by order of the court.\n",
            "\n",
            "In these types of cases, all the court has to do is require that the\n",
            "potential victim's property rights are protected until and unless he\n",
            "agrees to sell them at a mutually-acceptable price.  There is no need\n",
            "for the court to guess at the equitable value of the loss and force both\n",
            "sides to accept its finding.  It can leave that operation up to the\n",
            "parties themselves.\n",
            "\n",
            ">> And again I ask: Since when are the courts supposed to be in the\n",
            ">> business of ensuring that \"unnecessary\" settlement costs are avoided?\n",
            ">> (If so, I've been miseducated -- I always thought that the courts were\n",
            ">> supposed to be in the business of ensuring that justice is done.)\n",
            ">\n",
            "> Unnecessary settlement costs are unjust because they are punitive.\n",
            "\n",
            "In cases like _Boomer_, they're simply a cost of doing business.  The\n",
            "fact that the proprietors of the Atlantic Cement Co. got themselves into\n",
            "a position in which they found themselves over this barrel is simply a\n",
            "result of their own poor business decision to start up a cement plant\n",
            "without _first_ trying to negotiate with Boomer and everyone else whose\n",
            "property rights they'd be violating via the operation of their plant.\n",
            "There's nothing punitive or unjust about it.\n",
            "\n",
            ">> (2) It is \"completely sensible\" only if you believe that the alleged\n",
            ">> right of the owners of Atlantic Cement to stay in business and avoid\n",
            ">> losing a lot of their own money due to their own wrongful act, and\n",
            ">> the alleged right of several hundred Atlantic Cement employees to\n",
            ">> not have their jobs disappear, should trump the rights of people who\n",
            ">> own property which was damaged by Atlantic Cement's wrongful acts.\n",
            ">> [wdstarr]\n",
            ">\n",
            "> Anybody who ever commits a wrongful act should disgorge their entire\n",
            "> set of possessions to wronged person?  Weren't you complaining about\n",
            "> excess punitive damages before?\n",
            "\n",
            "Anybody who wants to commit a wrongful act in the future should be\n",
            "required to buy the right to do so from the victim, in advance.  And the\n",
            "seller should be allowed to set his or her price for the privilege.  No\n",
            "injustice, no punitive damages.\n",
            "\n",
            "*   *   *   *   *\n",
            "\n",
            ">>> You'd like Posner, Bill.  He's a libertarian.\n",
            ">>\n",
            ">>Really?  I didn't know that... what, if anything, has he had to say\n",
            ">>about cases like _Boomer_?  [wdstarr]\n",
            ">\n",
            "> In EAL, he cites it as an example of bilateral monopoly that the court\n",
            "> correctly avoided.  I'm sure its covered in the Landes and Posner book\n",
            "> on tort law, presumably favorably, but I don't have that book in front\n",
            "> of me.\n",
            "\n",
            "Doesn't sound very much like a libertarian to me.  Libertarians tend to\n",
            "believe in the rights of individual people, not societies.\n",
            "\n",
            "*   *   *   *   *\n",
            "\n",
            ">> I've admitted that my understanding of the field generally referred\n",
            ">> to as \"law and economics\" is weak.  If it advocates the use of\n",
            ">> economical analysis as one of many \"tie-breaker\" factors which\n",
            ">> courts may use to help them reach decisions in cases in which the\n",
            ">> dispute, as measured by the scale of \"justice\", is evenly balanced,\n",
            ">> fine.  But as illustrated by _Boomer_, it is _not_ fine when the\n",
            ">> courts start viewing the economics of a case as being more important\n",
            ">> than the justice of a case.  [wdstarr]\n",
            ">\n",
            "> In this case the justice of the case was intricately tied up with the\n",
            "> economics of the case.  Atlantic Cement committed a tort causing $185K\n",
            "> of damage.  Should it pay in the millions?  Or just compensate for the\n",
            "> damage it committed?\n",
            "\n",
            "As stated above, the tort was _ongoing_.  Atlantic Cement wanted to be\n",
            "able to _continue_ to violate Boomer's rights.  While the court may have\n",
            "been justified in setting an equitable price tag on the damage already\n",
            "committed, it had no reason and no need to set a price tag on the\n",
            "_future_ violations of Boomer's rights and to then force Boomer to sell\n",
            "at that price.\n",
            "\n",
            "-- William December Starr <wdstarr@athena.mit.edu>\n",
            "\n",
            "\n"
          ]
        }
      ]
    },
    {
      "cell_type": "code",
      "execution_count": 11,
      "metadata": {
        "id": "izZGWhpklCbI",
        "colab": {
          "base_uri": "https://localhost:8080/"
        },
        "outputId": "87698184-3e87-4b4e-a93e-3018c51bea45"
      },
      "outputs": [
        {
          "output_type": "stream",
          "name": "stdout",
          "text": [
            "Xref: cantaloupe.srv.cs.cmu.edu talk.politics.guns:54219 talk.politics.misc:178463\n",
            "Newsgroups: talk.politics.guns,talk.politics.misc\n",
            "Path: cantaloupe.srv.cs.cmu.edu!magnesium.club.cc.cmu.edu!news.sei.cmu.edu!cis.ohio-state.edu!magnus.acs.ohio-state.edu!usenet.ins.cwru.edu!agate!spool.mu.edu!darwin.sura.net!martha.utcc.utk.edu!FRANKENSTEIN.CE.UTK.EDU!VEAL\n",
            "From: VEAL@utkvm1.utk.edu (David Veal)\n",
            "Subject: Re: Proof of the Viability of Gun Control\n",
            "Message-ID: <VEAL.749.735192116@utkvm1.utk.edu>\n",
            "Lines: 21\n",
            "Sender: usenet@martha.utcc.utk.edu (USENET News System)\n",
            "Organization: University of Tennessee Division of Continuing Education\n",
            "References: <1qpbqd$ntl@access.digex.net> <C5otvp.ItL@magpie.linknet.com>\n",
            "Date: Mon, 19 Apr 1993 04:01:56 GMT\n",
            "\n",
            "[alt.drugs and alt.conspiracy removed from newsgroups line.]\n",
            "\n",
            "In article <C5otvp.ItL@magpie.linknet.com> neal@magpie.linknet.com (Neal) writes:\n",
            "\n",
            ">   Once the National Guard has been called into federal service,\n",
            ">it is under the command of the present. Tha National Guard, though\n",
            ">defined as the \"Militia\" in the statutes, is actually a reserve component\n",
            ">of the United State Army, and was formed pursuant to the power of Congress\n",
            ">to raise and support Armies.\n",
            "\n",
            "       That's the really cute thing about saying the 2nd amendment\n",
            "only covers the national guard, because that would mean that it\n",
            "essentially prohibits the federal government from disarming a branch\n",
            "of the federal government.\n",
            "\n",
            "       Sounds like a real limit to federal power to me.\n",
            "------------------------------------------------------------------------\n",
            "David Veal Univ. of Tenn. Div. of Cont. Education Info. Services Group\n",
            "PA146008@utkvm1.utk.edu - \"I still remember the way you laughed, the day\n",
            "your pushed me down the elevator shaft;  I'm beginning to think you don't\n",
            "love me anymore.\" - \"Weird Al\"\n",
            "\n"
          ]
        }
      ],
      "source": [
        "#Ejemplo de un texto de la categoría \"talk.politics.misc\"\n",
        "print(open(data_dir / \"talk.politics.misc\" / \"178463\").read())"
      ]
    },
    {
      "cell_type": "code",
      "source": [
        "# Seleccionar sólo ciertas clases\n",
        "list_all_dir = [\n",
        "    'alt.atheism',\n",
        "    'comp.graphics',\n",
        "    'comp.sys.mac.hardware',\n",
        "    'comp.windows.x',\n",
        "    'misc.forsale',\n",
        "    'rec.autos',\n",
        "    'rec.sport.baseball',\n",
        "    'rec.sport.hockey',\n",
        "    'sci.crypt',\n",
        "    'sci.med',\n",
        "    'sci.space',\n",
        "    'soc.religion.christian',\n",
        "    'talk.politics.guns',\n",
        "    'talk.politics.misc',\n",
        "    'talk.religion.misc'\n",
        "]"
      ],
      "metadata": {
        "id": "SEkE3XAr2nBy"
      },
      "execution_count": 12,
      "outputs": []
    },
    {
      "cell_type": "code",
      "execution_count": 13,
      "metadata": {
        "id": "33Ay5U6blCd1",
        "colab": {
          "base_uri": "https://localhost:8080/"
        },
        "outputId": "cf42c99f-46bf-4e42-dff8-fbf65e46988e"
      },
      "outputs": [
        {
          "output_type": "stream",
          "name": "stdout",
          "text": [
            "Processing alt.atheism, 1000 files found\n",
            "Processing comp.graphics, 1000 files found\n",
            "Processing comp.sys.mac.hardware, 1000 files found\n",
            "Processing comp.windows.x, 1000 files found\n",
            "Processing misc.forsale, 1000 files found\n",
            "Processing rec.autos, 1000 files found\n",
            "Processing rec.sport.baseball, 1000 files found\n",
            "Processing rec.sport.hockey, 1000 files found\n",
            "Processing sci.crypt, 1000 files found\n",
            "Processing sci.med, 1000 files found\n",
            "Processing sci.space, 1000 files found\n",
            "Processing soc.religion.christian, 997 files found\n",
            "Processing talk.politics.guns, 1000 files found\n",
            "Processing talk.politics.misc, 1000 files found\n",
            "Processing talk.religion.misc, 1000 files found\n",
            "Classes: ['alt.atheism', 'comp.graphics', 'comp.sys.mac.hardware', 'comp.windows.x', 'misc.forsale', 'rec.autos', 'rec.sport.baseball', 'rec.sport.hockey', 'sci.crypt', 'sci.med', 'sci.space', 'soc.religion.christian', 'talk.politics.guns', 'talk.politics.misc', 'talk.religion.misc']\n",
            "Number of samples: 14997\n"
          ]
        }
      ],
      "source": [
        "samples = []\n",
        "labels = []\n",
        "class_names = []\n",
        "class_index = 0\n",
        "for dirname in list_all_dir:\n",
        "    class_names.append(dirname)\n",
        "    dirpath = data_dir / dirname\n",
        "    fnames = os.listdir(dirpath)\n",
        "    print(\"Processing %s, %d files found\" % (dirname, len(fnames)))\n",
        "    for fname in fnames:\n",
        "        fpath = dirpath / fname\n",
        "        f = open(fpath, encoding=\"latin-1\")\n",
        "        content = f.read()\n",
        "        lines = content.split(\"\\n\")\n",
        "        lines = lines[10:]\n",
        "        content = \"\\n\".join(lines)\n",
        "        samples.append(content)\n",
        "        labels.append(class_index)\n",
        "    class_index += 1\n",
        "\n",
        "print(\"Classes:\", class_names)\n",
        "print(\"Number of samples:\", len(samples))"
      ]
    },
    {
      "cell_type": "markdown",
      "metadata": {
        "id": "n2pmvE6gMcxT"
      },
      "source": [
        "# Mezclando los datos para separarlos en Traning y Test"
      ]
    },
    {
      "cell_type": "code",
      "execution_count": 14,
      "metadata": {
        "id": "DYX7x-k_lCgZ"
      },
      "outputs": [],
      "source": [
        "# Shuffle the data\n",
        "seed = 1337\n",
        "rng = np.random.RandomState(seed)\n",
        "rng.shuffle(samples)\n",
        "rng = np.random.RandomState(seed)\n",
        "rng.shuffle(labels)\n",
        "keras.utils.set_random_seed(seed)\n",
        "\n",
        "# Extract a training & validation split\n",
        "validation_split = 0.2\n",
        "num_validation_samples = int(validation_split * len(samples))\n",
        "train_samples = samples[:-num_validation_samples]\n",
        "val_samples = samples[-num_validation_samples:]\n",
        "train_labels = labels[:-num_validation_samples]\n",
        "val_labels = labels[-num_validation_samples:]"
      ]
    },
    {
      "cell_type": "code",
      "execution_count": 15,
      "metadata": {
        "id": "VnL1d6Ew2kFJ",
        "colab": {
          "base_uri": "https://localhost:8080/"
        },
        "outputId": "92a64663-1dee-4d26-8ee2-d45c78a3928c"
      },
      "outputs": [
        {
          "output_type": "stream",
          "name": "stdout",
          "text": [
            "['NNTP-Posting-Host: hsc.usc.edu\\n\\nIn article <1993Apr26.184507.10511@aio.jsc.nasa.gov> kjenks@gothamcity.jsc.nasa.gov writes:\\n>I know it\\'s only wishful thinking, with our current President,\\n>but this is from last fall:\\n>\\n>     \"Is there life on Mars?  Maybe not now.  But there will be.\"\\n>        -- Daniel S. Goldin, NASA Administrator, 24 August 1992\\n>\\n>-- Ken Jenks, NASA/JSC/GM2, Space Shuttle Program Office\\n>      kjenks@gothamcity.jsc.nasa.gov  (713) 483-4368\\n\\nLets hear it for Dan Goldin...now if he can only convince the rest of\\nour federal government that the space program is a worth while\\ninvestment!\\n\\nI hope that I will live to see the day we walk on Mars, but\\nwe need to address the technical hurdles first!  If there\\'s sufficient\\ninterest, maybe we should consider starting a sci.space group \\ndevoted to the technical analysis of long-duration human spaceflight.\\nMost of you regulars know that I\\'m interested in starting this analysis\\nas soon as possible.\\n\\nKen\\nkhayash@hsc.usc.edu\\nUSC School of Medicine, Class of 1994\\n\\n']\n"
          ]
        }
      ],
      "source": [
        "print(train_samples[:1])"
      ]
    },
    {
      "cell_type": "code",
      "execution_count": 16,
      "metadata": {
        "id": "B_ifAVsF2kFK",
        "colab": {
          "base_uri": "https://localhost:8080/"
        },
        "outputId": "0a7d1a73-9536-4514-bf8e-2069809d78da"
      },
      "outputs": [
        {
          "output_type": "stream",
          "name": "stdout",
          "text": [
            "[\"I need a little help from a Texas Rangers expert.\\n\\nI was at Yankee Stadium Sunday (12-2 Texas rout) with my kids.  We\\nwandered out to the outfield during Rangers batting practice and\\nI caught a ball tossed into the stands (actually wrestled some guy\\na bit, I might add) by #62 on the Rangers.  Who is he?  Looked like\\na bullpen assistant type, youngish I think.  He was not in the\\nroster listed in the Yankee scorecard.  Any ideas?\\n\\nPlease e-mail as I haven't been reading r.s.b regularly.\\n\\nThanks.\\n- Bob\\n--\\nName:    Bob Dorin\\nCompany: Kendall Square Research \\nEmail:   dorin@ksr.com, ksr!dorin\\n\\n\\n\"]\n"
          ]
        }
      ],
      "source": [
        "print(val_samples[:1])"
      ]
    },
    {
      "cell_type": "code",
      "execution_count": 17,
      "metadata": {
        "id": "j-OBbT1x2kFK",
        "colab": {
          "base_uri": "https://localhost:8080/"
        },
        "outputId": "e74d8d6c-3e4f-48f3-9ff2-fafab78369a1"
      },
      "outputs": [
        {
          "output_type": "stream",
          "name": "stdout",
          "text": [
            "[10]\n"
          ]
        }
      ],
      "source": [
        "print(train_labels[:1])"
      ]
    },
    {
      "cell_type": "code",
      "execution_count": 18,
      "metadata": {
        "id": "-_efxN9K2kFK",
        "colab": {
          "base_uri": "https://localhost:8080/"
        },
        "outputId": "fc44fbd3-6057-4a2c-d51d-824c7cab03f2"
      },
      "outputs": [
        {
          "output_type": "stream",
          "name": "stdout",
          "text": [
            "[6]\n"
          ]
        }
      ],
      "source": [
        "print(val_labels[:1])"
      ]
    },
    {
      "cell_type": "markdown",
      "metadata": {
        "id": "IktOtKfpNx8E"
      },
      "source": [
        "# Tokenización de las palabras con TextVectorization"
      ]
    },
    {
      "cell_type": "code",
      "execution_count": 19,
      "metadata": {
        "id": "QjHgQPX8lCjO"
      },
      "outputs": [],
      "source": [
        "from tensorflow.keras.layers import TextVectorization\n",
        "vectorizer = TextVectorization(max_tokens=20000, output_sequence_length=200)\n",
        "text_ds = tf.data.Dataset.from_tensor_slices(train_samples).batch(128)\n",
        "vectorizer.adapt(text_ds)"
      ]
    },
    {
      "cell_type": "code",
      "execution_count": 20,
      "metadata": {
        "id": "vIWC37s5smZ4",
        "colab": {
          "base_uri": "https://localhost:8080/"
        },
        "outputId": "588b7d34-8db2-4193-ebf9-ee31d3e1b4c0"
      },
      "outputs": [
        {
          "output_type": "execute_result",
          "data": {
            "text/plain": [
              "['', '[UNK]', 'the', 'to', 'of']"
            ]
          },
          "metadata": {},
          "execution_count": 20
        }
      ],
      "source": [
        "vectorizer.get_vocabulary()[:5]"
      ]
    },
    {
      "cell_type": "code",
      "execution_count": 21,
      "metadata": {
        "id": "vit8TPqTvmwS",
        "colab": {
          "base_uri": "https://localhost:8080/"
        },
        "outputId": "581509ab-80ac-49d7-e394-a54c47a766f1"
      },
      "outputs": [
        {
          "output_type": "execute_result",
          "data": {
            "text/plain": [
              "20000"
            ]
          },
          "metadata": {},
          "execution_count": 21
        }
      ],
      "source": [
        "len(vectorizer.get_vocabulary())"
      ]
    },
    {
      "cell_type": "markdown",
      "metadata": {
        "id": "2O-FXA9wPVkg"
      },
      "source": [
        "# Viendo la salida de Vectorizer"
      ]
    },
    {
      "cell_type": "code",
      "execution_count": 22,
      "metadata": {
        "id": "rseIF0fLmyJ0",
        "colab": {
          "base_uri": "https://localhost:8080/"
        },
        "outputId": "9828391f-aeed-4727-cdd7-9b5945153188"
      },
      "outputs": [
        {
          "output_type": "execute_result",
          "data": {
            "text/plain": [
              "array([   2, 3762, 1955,   18,    2, 5188])"
            ]
          },
          "metadata": {},
          "execution_count": 22
        }
      ],
      "source": [
        "output = vectorizer([[\"the cat sat on the mat\"]])\n",
        "output.numpy()[0, :6]"
      ]
    },
    {
      "cell_type": "code",
      "execution_count": 23,
      "metadata": {
        "id": "Wsr4AQtBFArV",
        "colab": {
          "base_uri": "https://localhost:8080/"
        },
        "outputId": "b89332f6-8539-4bca-8cfc-147ca9c7a50a"
      },
      "outputs": [
        {
          "output_type": "execute_result",
          "data": {
            "text/plain": [
              "<tf.Tensor: shape=(1, 200), dtype=int64, numpy=\n",
              "array([[   2, 3762, 1955,   18,    2, 5188,    0,    0,    0,    0,    0,\n",
              "           0,    0,    0,    0,    0,    0,    0,    0,    0,    0,    0,\n",
              "           0,    0,    0,    0,    0,    0,    0,    0,    0,    0,    0,\n",
              "           0,    0,    0,    0,    0,    0,    0,    0,    0,    0,    0,\n",
              "           0,    0,    0,    0,    0,    0,    0,    0,    0,    0,    0,\n",
              "           0,    0,    0,    0,    0,    0,    0,    0,    0,    0,    0,\n",
              "           0,    0,    0,    0,    0,    0,    0,    0,    0,    0,    0,\n",
              "           0,    0,    0,    0,    0,    0,    0,    0,    0,    0,    0,\n",
              "           0,    0,    0,    0,    0,    0,    0,    0,    0,    0,    0,\n",
              "           0,    0,    0,    0,    0,    0,    0,    0,    0,    0,    0,\n",
              "           0,    0,    0,    0,    0,    0,    0,    0,    0,    0,    0,\n",
              "           0,    0,    0,    0,    0,    0,    0,    0,    0,    0,    0,\n",
              "           0,    0,    0,    0,    0,    0,    0,    0,    0,    0,    0,\n",
              "           0,    0,    0,    0,    0,    0,    0,    0,    0,    0,    0,\n",
              "           0,    0,    0,    0,    0,    0,    0,    0,    0,    0,    0,\n",
              "           0,    0,    0,    0,    0,    0,    0,    0,    0,    0,    0,\n",
              "           0,    0,    0,    0,    0,    0,    0,    0,    0,    0,    0,\n",
              "           0,    0,    0,    0,    0,    0,    0,    0,    0,    0,    0,\n",
              "           0,    0]])>"
            ]
          },
          "metadata": {},
          "execution_count": 23
        }
      ],
      "source": [
        "output"
      ]
    },
    {
      "cell_type": "code",
      "execution_count": 24,
      "metadata": {
        "id": "SL5ag8UamzwL"
      },
      "outputs": [],
      "source": [
        "voc = vectorizer.get_vocabulary()\n",
        "word_index = dict(zip(voc, range(len(voc))))"
      ]
    },
    {
      "cell_type": "code",
      "execution_count": 25,
      "metadata": {
        "id": "08v8SKcsn3lf",
        "colab": {
          "base_uri": "https://localhost:8080/"
        },
        "outputId": "cbb69196-4ae0-4ffd-dd8f-ce05ca325898"
      },
      "outputs": [
        {
          "output_type": "execute_result",
          "data": {
            "text/plain": [
              "[2, 3762, 1955, 18, 2, 5188]"
            ]
          },
          "metadata": {},
          "execution_count": 25
        }
      ],
      "source": [
        "test = [\"the\", \"cat\", \"sat\", \"on\", \"the\", \"mat\"]\n",
        "[word_index[w] for w in test]"
      ]
    },
    {
      "cell_type": "markdown",
      "metadata": {
        "id": "1eBhadrvOTNZ"
      },
      "source": [
        "# Tokenización de los datos de entrenamiento y validación"
      ]
    },
    {
      "cell_type": "code",
      "execution_count": 26,
      "metadata": {
        "id": "W26LUr2dKTOj"
      },
      "outputs": [],
      "source": [
        "x_train = vectorizer(np.array([[s] for s in train_samples])).numpy()\n",
        "x_val = vectorizer(np.array([[s] for s in val_samples])).numpy()\n",
        "\n",
        "y_train = np.array(train_labels)\n",
        "y_val = np.array(val_labels)"
      ]
    },
    {
      "cell_type": "markdown",
      "metadata": {
        "id": "q3QVIb84Olda"
      },
      "source": [
        "# Creación y entrenamiento del modelo"
      ]
    },
    {
      "cell_type": "code",
      "execution_count": 27,
      "metadata": {
        "id": "B9VxI-i69cdB"
      },
      "outputs": [],
      "source": [
        "# pon aquí tu"
      ]
    },
    {
      "cell_type": "markdown",
      "metadata": {
        "id": "v4x_4eXJVrnX"
      },
      "source": [
        "# Evaluación"
      ]
    },
    {
      "cell_type": "code",
      "execution_count": 28,
      "metadata": {
        "id": "fgg7KnoioNYc",
        "colab": {
          "base_uri": "https://localhost:8080/",
          "height": 211
        },
        "outputId": "e88763f1-36bf-4dfa-d2d2-2de214885d19"
      },
      "outputs": [
        {
          "output_type": "error",
          "ename": "NameError",
          "evalue": "name 'modeloEmbeddingGloveTransformers' is not defined",
          "traceback": [
            "\u001b[0;31m---------------------------------------------------------------------------\u001b[0m",
            "\u001b[0;31mNameError\u001b[0m                                 Traceback (most recent call last)",
            "\u001b[0;32m<ipython-input-28-943cf2cb6f50>\u001b[0m in \u001b[0;36m<cell line: 0>\u001b[0;34m()\u001b[0m\n\u001b[1;32m      1\u001b[0m \u001b[0mstring_input\u001b[0m \u001b[0;34m=\u001b[0m \u001b[0mkeras\u001b[0m\u001b[0;34m.\u001b[0m\u001b[0mInput\u001b[0m\u001b[0;34m(\u001b[0m\u001b[0mshape\u001b[0m\u001b[0;34m=\u001b[0m\u001b[0;34m(\u001b[0m\u001b[0;36m1\u001b[0m\u001b[0;34m,\u001b[0m\u001b[0;34m)\u001b[0m\u001b[0;34m,\u001b[0m \u001b[0mdtype\u001b[0m\u001b[0;34m=\u001b[0m\u001b[0;34m\"string\"\u001b[0m\u001b[0;34m)\u001b[0m\u001b[0;34m\u001b[0m\u001b[0;34m\u001b[0m\u001b[0m\n\u001b[1;32m      2\u001b[0m \u001b[0mx\u001b[0m \u001b[0;34m=\u001b[0m \u001b[0mvectorizer\u001b[0m\u001b[0;34m(\u001b[0m\u001b[0mstring_input\u001b[0m\u001b[0;34m)\u001b[0m\u001b[0;34m\u001b[0m\u001b[0;34m\u001b[0m\u001b[0m\n\u001b[0;32m----> 3\u001b[0;31m \u001b[0mpreds\u001b[0m \u001b[0;34m=\u001b[0m \u001b[0mmodeloEmbeddingGloveTransformers\u001b[0m\u001b[0;34m(\u001b[0m\u001b[0mx\u001b[0m\u001b[0;34m)\u001b[0m\u001b[0;34m\u001b[0m\u001b[0;34m\u001b[0m\u001b[0m\n\u001b[0m\u001b[1;32m      4\u001b[0m \u001b[0mend_to_end_model\u001b[0m \u001b[0;34m=\u001b[0m \u001b[0mkeras\u001b[0m\u001b[0;34m.\u001b[0m\u001b[0mModel\u001b[0m\u001b[0;34m(\u001b[0m\u001b[0mstring_input\u001b[0m\u001b[0;34m,\u001b[0m \u001b[0mpreds\u001b[0m\u001b[0;34m)\u001b[0m\u001b[0;34m\u001b[0m\u001b[0;34m\u001b[0m\u001b[0m\n\u001b[1;32m      5\u001b[0m \u001b[0;34m\u001b[0m\u001b[0m\n",
            "\u001b[0;31mNameError\u001b[0m: name 'modeloEmbeddingGloveTransformers' is not defined"
          ]
        }
      ],
      "source": [
        "string_input = keras.Input(shape=(1,), dtype=\"string\")\n",
        "x = vectorizer(string_input)\n",
        "preds = modeloEmbeddingGloveTransformers(x)\n",
        "end_to_end_model = keras.Model(string_input, preds)\n",
        "\n",
        "probabilities = end_to_end_model.predict(\n",
        "    [[\"this message is about computer graphics and 3D modeling\"]]\n",
        ")\n",
        "\n",
        "class_names[np.argmax(probabilities[0])]"
      ]
    },
    {
      "cell_type": "code",
      "execution_count": null,
      "metadata": {
        "id": "R-EXfK6qoSAd"
      },
      "outputs": [],
      "source": [
        "probabilities = end_to_end_model.predict(\n",
        "    [[\"politics and federal courts law that people understand with politician and elects congressman\"]]\n",
        ")\n",
        "\n",
        "class_names[np.argmax(probabilities[0])]"
      ]
    },
    {
      "cell_type": "code",
      "execution_count": null,
      "metadata": {
        "id": "QByfYDv4rGqv"
      },
      "outputs": [],
      "source": [
        "probabilities = end_to_end_model.predict(\n",
        "    [[\"we are talking about religion\"]]\n",
        ")\n",
        "\n",
        "class_names[np.argmax(probabilities[0])]"
      ]
    }
  ],
  "metadata": {
    "accelerator": "GPU",
    "colab": {
      "provenance": [],
      "include_colab_link": true
    },
    "gpuClass": "standard",
    "kernelspec": {
      "display_name": "Python 3",
      "language": "python",
      "name": "python3"
    },
    "language_info": {
      "codemirror_mode": {
        "name": "ipython",
        "version": 3
      },
      "file_extension": ".py",
      "mimetype": "text/x-python",
      "name": "python",
      "nbconvert_exporter": "python",
      "pygments_lexer": "ipython3",
      "version": "3.8.3"
    }
  },
  "nbformat": 4,
  "nbformat_minor": 0
}