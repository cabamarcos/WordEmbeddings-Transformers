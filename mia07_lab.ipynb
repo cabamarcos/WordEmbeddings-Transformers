{
  "cells": [
    {
      "cell_type": "markdown",
      "metadata": {
        "id": "view-in-github",
        "colab_type": "text"
      },
      "source": [
        "<a href=\"https://colab.research.google.com/github/cabamarcos/PLN2/blob/main/mia07_lab.ipynb\" target=\"_parent\"><img src=\"https://colab.research.google.com/assets/colab-badge.svg\" alt=\"Open In Colab\"/></a>"
      ]
    },
    {
      "cell_type": "markdown",
      "metadata": {
        "id": "ktFg2jj3jTE6"
      },
      "source": [
        "# ACTIVIDAD DE CLASIFICACIÓN DE TEXTO"
      ]
    },
    {
      "cell_type": "markdown",
      "metadata": {
        "id": "MZ-OuW5DiLJs"
      },
      "source": [
        "En esta actividad vamos a trabajar en clasificar textos. Se recorrerá todo el proceso desde traer el dataset hasta proceder a dicha clasificación. Durante la actividad se llevarán a cabo muchos procesos como la creación de un vocabulario, el uso de embeddings y la creación de modelos.\n",
        "\n",
        "Las cuestiones presentes en esta actividad están basadas en un Notebook creado por François Chollet, uno de los creadores de Keras y autor del libro \"Deep Learning with Python\".\n",
        "\n",
        "En este Notebook se trabaja con el dataset \"Newsgroup20\" que contiene aproximadamente 20000 mensajes que pertenecen a 20 categorías diferentes.\n",
        "\n",
        "El objetivo es entender los conceptos que se trabajan y ser capaz de hacer pequeñas experimentaciones para mejorar el Notebook creado."
      ]
    },
    {
      "cell_type": "markdown",
      "metadata": {
        "id": "hytURWLLjZvT"
      },
      "source": [
        "# Librerías"
      ]
    },
    {
      "cell_type": "code",
      "execution_count": 1,
      "metadata": {
        "id": "DbxRuvOwkzSs"
      },
      "outputs": [],
      "source": [
        "import numpy as np\n",
        "import tensorflow as tf\n",
        "from tensorflow import keras"
      ]
    },
    {
      "cell_type": "markdown",
      "metadata": {
        "id": "PXfYbCflkQYy"
      },
      "source": [
        "# Descarga de Datos"
      ]
    },
    {
      "cell_type": "code",
      "execution_count": 2,
      "metadata": {
        "id": "e-1ZhOf3lB_A"
      },
      "outputs": [],
      "source": [
        "data_path = keras.utils.get_file(\n",
        "    \"news20.tar.gz\",\n",
        "    \"http://www.cs.cmu.edu/afs/cs.cmu.edu/project/theo-20/www/data/news20.tar.gz\",\n",
        "    untar=True,\n",
        ")"
      ]
    },
    {
      "cell_type": "code",
      "execution_count": 3,
      "metadata": {
        "id": "l3ygvoWhlCYj",
        "colab": {
          "base_uri": "https://localhost:8080/"
        },
        "outputId": "c59627a9-7dfe-4280-d71f-9e7813e52367"
      },
      "outputs": [
        {
          "output_type": "stream",
          "name": "stdout",
          "text": [
            "Number of directories: 20\n",
            "Directory names: ['talk.religion.misc', 'comp.windows.x', 'comp.sys.mac.hardware', 'comp.graphics', 'sci.med', 'talk.politics.mideast', 'sci.electronics', 'rec.sport.hockey', 'soc.religion.christian', 'talk.politics.misc', 'comp.os.ms-windows.misc', 'rec.autos', 'comp.sys.ibm.pc.hardware', 'talk.politics.guns', 'misc.forsale', 'sci.crypt', 'rec.motorcycles', 'sci.space', 'alt.atheism', 'rec.sport.baseball']\n"
          ]
        }
      ],
      "source": [
        "import os\n",
        "import pathlib\n",
        "\n",
        "#Estructura de directorios del dataset\n",
        "data_dir = pathlib.Path(data_path) / \"20_newsgroup\"\n",
        "dirnames = os.listdir(data_dir)\n",
        "print(\"Number of directories:\", len(dirnames))\n",
        "print(\"Directory names:\", dirnames)"
      ]
    },
    {
      "cell_type": "code",
      "execution_count": 4,
      "metadata": {
        "id": "uED3yrSl2kFH",
        "colab": {
          "base_uri": "https://localhost:8080/"
        },
        "outputId": "154a644f-7859-4580-8dd1-b119f7262f4f"
      },
      "outputs": [
        {
          "output_type": "stream",
          "name": "stdout",
          "text": [
            "/root/.keras/datasets/news20_extracted/20_newsgroup\n"
          ]
        }
      ],
      "source": [
        "print(data_dir)"
      ]
    },
    {
      "cell_type": "code",
      "execution_count": 5,
      "metadata": {
        "id": "OG8rjgOFlcaV",
        "colab": {
          "base_uri": "https://localhost:8080/"
        },
        "outputId": "577c7454-b780-4775-b2d9-8474e0187cb0"
      },
      "outputs": [
        {
          "output_type": "stream",
          "name": "stdout",
          "text": [
            "Number of files in comp.graphics: 1000\n",
            "Some example filenames: ['39015', '38367', '38654', '38513', '38742']\n"
          ]
        }
      ],
      "source": [
        "#Algunos archivos de la categoria \"com.graphics\"\n",
        "fnames = os.listdir(data_dir / \"comp.graphics\")\n",
        "print(\"Number of files in comp.graphics:\", len(fnames))\n",
        "print(\"Some example filenames:\", fnames[:5])"
      ]
    },
    {
      "cell_type": "code",
      "execution_count": 6,
      "metadata": {
        "id": "8ox6s6z9lgps",
        "colab": {
          "base_uri": "https://localhost:8080/"
        },
        "outputId": "90f7309f-8b22-47e2-b8eb-d6d9a65e30a0"
      },
      "outputs": [
        {
          "output_type": "stream",
          "name": "stdout",
          "text": [
            "Xref: cantaloupe.srv.cs.cmu.edu comp.graphics:37261 alt.graphics:519 comp.graphics.animation:2614\n",
            "Path: cantaloupe.srv.cs.cmu.edu!das-news.harvard.edu!ogicse!uwm.edu!zaphod.mps.ohio-state.edu!darwin.sura.net!dtix.dt.navy.mil!oasys!lipman\n",
            "From: lipman@oasys.dt.navy.mil (Robert Lipman)\n",
            "Newsgroups: comp.graphics,alt.graphics,comp.graphics.animation\n",
            "Subject: CALL FOR PRESENTATIONS: Navy SciViz/VR Seminar\n",
            "Message-ID: <32850@oasys.dt.navy.mil>\n",
            "Date: 19 Mar 93 20:10:23 GMT\n",
            "Article-I.D.: oasys.32850\n",
            "Expires: 30 Apr 93 04:00:00 GMT\n",
            "Reply-To: lipman@oasys.dt.navy.mil (Robert Lipman)\n",
            "Followup-To: comp.graphics\n",
            "Distribution: usa\n",
            "Organization: Carderock Division, NSWC, Bethesda, MD\n",
            "Lines: 65\n",
            "\n",
            "\n",
            "\t\t\tCALL FOR PRESENTATIONS\n",
            "\t\n",
            "      NAVY SCIENTIFIC VISUALIZATION AND VIRTUAL REALITY SEMINAR\n",
            "\n",
            "\t\t\tTuesday, June 22, 1993\n",
            "\n",
            "\t    Carderock Division, Naval Surface Warfare Center\n",
            "\t      (formerly the David Taylor Research Center)\n",
            "\t\t\t  Bethesda, Maryland\n",
            "\n",
            "SPONSOR: NESS (Navy Engineering Software System) is sponsoring a \n",
            "one-day Navy Scientific Visualization and Virtual Reality Seminar.  \n",
            "The purpose of the seminar is to present and exchange information for\n",
            "Navy-related scientific visualization and virtual reality programs, \n",
            "research, developments, and applications.\n",
            "\n",
            "PRESENTATIONS: Presentations are solicited on all aspects of \n",
            "Navy-related scientific visualization and virtual reality.  All \n",
            "current work, works-in-progress, and proposed work by Navy \n",
            "organizations will be considered.  Four types of presentations are \n",
            "available.\n",
            "\n",
            "     1. Regular presentation: 20-30 minutes in length\n",
            "     2. Short presentation: 10 minutes in length\n",
            "     3. Video presentation: a stand-alone videotape (author need not \n",
            "\tattend the seminar)\n",
            "     4. Scientific visualization or virtual reality demonstration (BYOH)\n",
            "\n",
            "Accepted presentations will not be published in any proceedings, \n",
            "however, viewgraphs and other materials will be reproduced for \n",
            "seminar attendees.\n",
            "\n",
            "ABSTRACTS: Authors should submit a one page abstract and/or videotape to:\n",
            "\n",
            "     Robert Lipman\n",
            "     Naval Surface Warfare Center, Carderock Division\n",
            "     Code 2042\n",
            "     Bethesda, Maryland  20084-5000\n",
            "\n",
            "     VOICE (301) 227-3618;  FAX (301) 227-5753  \n",
            "     E-MAIL  lipman@oasys.dt.navy.mil\n",
            "\n",
            "Authors should include the type of presentation, their affiliations, \n",
            "addresses, telephone and FAX numbers, and addresses.  Multi-author \n",
            "papers should designate one point of contact.\n",
            "\n",
            "DEADLINES: The abstact submission deadline is April 30, 1993.  \n",
            "Notification of acceptance will be sent by May 14, 1993.  \n",
            "Materials for reproduction must be received by June 1, 1993.\n",
            "\n",
            "For further information, contact Robert Lipman at the above address.\n",
            "\n",
            "\t  PLEASE DISTRIBUTE AS WIDELY AS POSSIBLE, THANKS.\n",
            "\n",
            "\n",
            "\n",
            "\n",
            "Robert Lipman                     | Internet: lipman@oasys.dt.navy.mil\n",
            "David Taylor Model Basin - CDNSWC |       or: lip@ocean.dt.navy.mil\n",
            "Computational Signatures and      | Voicenet: (301) 227-3618\n",
            "   Structures Group, Code 2042    | Factsnet: (301) 227-5753\n",
            "Bethesda, Maryland  20084-5000    | Phishnet: stockings@long.legs\n",
            "\t\t\t\t   \n",
            "The sixth sick shiek's sixth sheep's sick.\n",
            "\n"
          ]
        }
      ],
      "source": [
        "#Ejemplo de un texto de la categoría \"com.graphics\"\n",
        "print(open(data_dir / \"comp.graphics\" / \"37261\").read())"
      ]
    },
    {
      "cell_type": "code",
      "execution_count": 7,
      "metadata": {
        "id": "rRA3C-UO2kFI",
        "colab": {
          "base_uri": "https://localhost:8080/"
        },
        "outputId": "3240f2eb-9d63-4ac3-d743-751809ab9901"
      },
      "outputs": [
        {
          "output_type": "stream",
          "name": "stdout",
          "text": [
            "875.6\n"
          ]
        }
      ],
      "source": [
        "import spacy\n",
        "import en_core_web_sm\n",
        "nlp = en_core_web_sm.load()\n",
        "\n",
        "total_tokens=0\n",
        "for i in (range(15)):\n",
        "    doc = nlp(pathlib.Path(data_dir / \"comp.graphics\" / fnames[i]).read_text(encoding=\"latin-1\"))\n",
        "    doc.__len__()\n",
        "    total_tokens+=doc.__len__()\n",
        "\n",
        "average_tokens = total_tokens/15\n",
        "\n",
        "print(average_tokens)"
      ]
    },
    {
      "cell_type": "code",
      "execution_count": 8,
      "metadata": {
        "id": "vUbbjI8plaG0",
        "colab": {
          "base_uri": "https://localhost:8080/"
        },
        "outputId": "2c733cba-b33c-4f9e-9f77-eaf4e02c105d"
      },
      "outputs": [
        {
          "output_type": "stream",
          "name": "stdout",
          "text": [
            "Number of files in talk.politics.misc: 1000\n",
            "Some example filenames: ['178638', '177014', '178991', '178310', '179004']\n"
          ]
        }
      ],
      "source": [
        "#Algunos archivos de la categoria \"talk.politics.misc\"\n",
        "fnames = os.listdir(data_dir / \"talk.politics.misc\")\n",
        "print(\"Number of files in talk.politics.misc:\", len(fnames))\n",
        "print(\"Some example filenames:\", fnames[:5])"
      ]
    },
    {
      "cell_type": "code",
      "execution_count": 9,
      "metadata": {
        "id": "izZGWhpklCbI",
        "colab": {
          "base_uri": "https://localhost:8080/"
        },
        "outputId": "c708ad56-7fef-43c0-ea4a-5d325ee73c22"
      },
      "outputs": [
        {
          "output_type": "stream",
          "name": "stdout",
          "text": [
            "Xref: cantaloupe.srv.cs.cmu.edu talk.politics.guns:54219 talk.politics.misc:178463\n",
            "Newsgroups: talk.politics.guns,talk.politics.misc\n",
            "Path: cantaloupe.srv.cs.cmu.edu!magnesium.club.cc.cmu.edu!news.sei.cmu.edu!cis.ohio-state.edu!magnus.acs.ohio-state.edu!usenet.ins.cwru.edu!agate!spool.mu.edu!darwin.sura.net!martha.utcc.utk.edu!FRANKENSTEIN.CE.UTK.EDU!VEAL\n",
            "From: VEAL@utkvm1.utk.edu (David Veal)\n",
            "Subject: Re: Proof of the Viability of Gun Control\n",
            "Message-ID: <VEAL.749.735192116@utkvm1.utk.edu>\n",
            "Lines: 21\n",
            "Sender: usenet@martha.utcc.utk.edu (USENET News System)\n",
            "Organization: University of Tennessee Division of Continuing Education\n",
            "References: <1qpbqd$ntl@access.digex.net> <C5otvp.ItL@magpie.linknet.com>\n",
            "Date: Mon, 19 Apr 1993 04:01:56 GMT\n",
            "\n",
            "[alt.drugs and alt.conspiracy removed from newsgroups line.]\n",
            "\n",
            "In article <C5otvp.ItL@magpie.linknet.com> neal@magpie.linknet.com (Neal) writes:\n",
            "\n",
            ">   Once the National Guard has been called into federal service,\n",
            ">it is under the command of the present. Tha National Guard, though\n",
            ">defined as the \"Militia\" in the statutes, is actually a reserve component\n",
            ">of the United State Army, and was formed pursuant to the power of Congress\n",
            ">to raise and support Armies.\n",
            "\n",
            "       That's the really cute thing about saying the 2nd amendment\n",
            "only covers the national guard, because that would mean that it\n",
            "essentially prohibits the federal government from disarming a branch\n",
            "of the federal government.\n",
            "\n",
            "       Sounds like a real limit to federal power to me.\n",
            "------------------------------------------------------------------------\n",
            "David Veal Univ. of Tenn. Div. of Cont. Education Info. Services Group\n",
            "PA146008@utkvm1.utk.edu - \"I still remember the way you laughed, the day\n",
            "your pushed me down the elevator shaft;  I'm beginning to think you don't\n",
            "love me anymore.\" - \"Weird Al\"\n",
            "\n"
          ]
        }
      ],
      "source": [
        "#Ejemplo de un texto de la categoría \"talk.politics.misc\"\n",
        "print(open(data_dir / \"talk.politics.misc\" / \"178463\").read())"
      ]
    },
    {
      "cell_type": "code",
      "source": [
        "# Seleccionar sólo ciertas clases\n",
        "list_all_dir = [\n",
        "    'alt.atheism',\n",
        "    'comp.graphics',\n",
        "    'comp.sys.mac.hardware',\n",
        "    'comp.windows.x',\n",
        "    'misc.forsale',\n",
        "    'rec.autos',\n",
        "    'rec.sport.baseball',\n",
        "    'rec.sport.hockey',\n",
        "    'sci.crypt',\n",
        "    'sci.med',\n",
        "    'sci.space',\n",
        "    'soc.religion.christian',\n",
        "    'talk.politics.guns',\n",
        "    'talk.politics.misc',\n",
        "    'talk.religion.misc'\n",
        "]"
      ],
      "metadata": {
        "id": "SEkE3XAr2nBy"
      },
      "execution_count": 10,
      "outputs": []
    },
    {
      "cell_type": "code",
      "execution_count": 11,
      "metadata": {
        "id": "33Ay5U6blCd1",
        "colab": {
          "base_uri": "https://localhost:8080/"
        },
        "outputId": "7bc4478d-ca86-4052-88fc-3343ebc26134"
      },
      "outputs": [
        {
          "output_type": "stream",
          "name": "stdout",
          "text": [
            "Processing alt.atheism, 1000 files found\n",
            "Processing comp.graphics, 1000 files found\n",
            "Processing comp.sys.mac.hardware, 1000 files found\n",
            "Processing comp.windows.x, 1000 files found\n",
            "Processing misc.forsale, 1000 files found\n",
            "Processing rec.autos, 1000 files found\n",
            "Processing rec.sport.baseball, 1000 files found\n",
            "Processing rec.sport.hockey, 1000 files found\n",
            "Processing sci.crypt, 1000 files found\n",
            "Processing sci.med, 1000 files found\n",
            "Processing sci.space, 1000 files found\n",
            "Processing soc.religion.christian, 997 files found\n",
            "Processing talk.politics.guns, 1000 files found\n",
            "Processing talk.politics.misc, 1000 files found\n",
            "Processing talk.religion.misc, 1000 files found\n",
            "Classes: ['alt.atheism', 'comp.graphics', 'comp.sys.mac.hardware', 'comp.windows.x', 'misc.forsale', 'rec.autos', 'rec.sport.baseball', 'rec.sport.hockey', 'sci.crypt', 'sci.med', 'sci.space', 'soc.religion.christian', 'talk.politics.guns', 'talk.politics.misc', 'talk.religion.misc']\n",
            "Number of samples: 14997\n"
          ]
        }
      ],
      "source": [
        "samples = []\n",
        "labels = []\n",
        "class_names = []\n",
        "class_index = 0\n",
        "for dirname in list_all_dir:\n",
        "    class_names.append(dirname)\n",
        "    dirpath = data_dir / dirname\n",
        "    fnames = os.listdir(dirpath)\n",
        "    print(\"Processing %s, %d files found\" % (dirname, len(fnames)))\n",
        "    for fname in fnames:\n",
        "        fpath = dirpath / fname\n",
        "        f = open(fpath, encoding=\"latin-1\")\n",
        "        content = f.read()\n",
        "        lines = content.split(\"\\n\")\n",
        "        lines = lines[10:]\n",
        "        content = \"\\n\".join(lines)\n",
        "        samples.append(content)\n",
        "        labels.append(class_index)\n",
        "    class_index += 1\n",
        "\n",
        "print(\"Classes:\", class_names)\n",
        "print(\"Number of samples:\", len(samples))"
      ]
    },
    {
      "cell_type": "markdown",
      "metadata": {
        "id": "n2pmvE6gMcxT"
      },
      "source": [
        "# Mezclando los datos para separarlos en Traning y Test"
      ]
    },
    {
      "cell_type": "code",
      "execution_count": 12,
      "metadata": {
        "id": "DYX7x-k_lCgZ"
      },
      "outputs": [],
      "source": [
        "# Shuffle the data\n",
        "seed = 1337\n",
        "rng = np.random.RandomState(seed)\n",
        "rng.shuffle(samples)\n",
        "rng = np.random.RandomState(seed)\n",
        "rng.shuffle(labels)\n",
        "keras.utils.set_random_seed(seed)\n",
        "\n",
        "# Extract a training & validation split\n",
        "validation_split = 0.2\n",
        "num_validation_samples = int(validation_split * len(samples))\n",
        "train_samples = samples[:-num_validation_samples]\n",
        "val_samples = samples[-num_validation_samples:]\n",
        "train_labels = labels[:-num_validation_samples]\n",
        "val_labels = labels[-num_validation_samples:]"
      ]
    },
    {
      "cell_type": "code",
      "execution_count": 13,
      "metadata": {
        "id": "VnL1d6Ew2kFJ",
        "colab": {
          "base_uri": "https://localhost:8080/"
        },
        "outputId": "ce7149b8-89a3-4682-8c9c-c7b46c8af08c"
      },
      "outputs": [
        {
          "output_type": "stream",
          "name": "stdout",
          "text": [
            "[\"\\t<1993Apr26.155915.8998@desire.wright.edu>\\nOrganization: U. of Washington\\nLines: 13\\nNNTP-Posting-Host: ptolemy.astro.washington.edu\\nTo: jbatka@desire.wright.edu\\nIn-reply-to: jbatka@desire.wright.edu's message of 26 Apr 93 15:59:15 EST\\n\\nIn article <1993Apr26.155915.8998@desire.wright.edu> jbatka@desire.wright.edu writes:\\n\\n   I assume that can only be guessed at by the assumed energy of the\\n   event and the 1/r^2 law.  So, if the 1/r^2 law is incorrect (assume\\n   some unknown material [dark matter??] inhibits Gamma Ray propagation),\\n   could it be possible that we are actually seeing much less energetic\\n   events happening much closer to us?  The even distribution could\\n   be caused by the characteristic propagation distance of gamma rays \\n   being shorter then 1/2 the thickness of the disk of the galaxy.\\n\\nI believe the problem with this theory is that we see gamma-ray\\nsources at that energy range and their energy doesn't seem to be\\nsignificantly absorbed.\\n\", 'X-Mailer: PSILink-DOS (3.3)\\nLines: 18\\n\\n>DATE:   19 Apr 93 23:23:26 GMT\\n>FROM:   Bake Timmons <timmbake@mcl.ucsb.edu>\\n>\\n>My my, there _are_ a few atheists with time on their hands.  :)\\n>\\n>OK, first I apologize.  I didn\\'t bother reading the FAQ first and so fired an\\n>imprecise flame.  That was inexcusable.\\n>\\n\\nHow about the nickname Bake \"Flamethrower\" Timmons?\\n\\nYou weren\\'t at the Koresh compound around noon today by any chance, were you?\\n\\nRemember, Koresh \"dried\" for your sins.  \\n\\nAnd pass that beef jerky.  Umm Umm.\\n\\n\\n', '\\nFirst off, the correct spelling of Nissan\\'s luxury automobile division\\nis \"Infiniti\" not \"Infinity.\"  I would also like to clear up the question\\nof what kind of engines power Lexus and Infiniti automobiles, since a\\nperson had remarked in earlier posts that most Lexus and Infiniti models\\nhad V6 engines, while at the same time saying that several of each\\nmanufacturer used V8 engines.\\n\\nLexus:\\n  LS400- V8\\n  GS300- V6\\n  ES300- V6\\n  SC400- V8\\n  SC300- V6\\n\\nInfiniti:\\n  Q45- V8\\n  J30- V6\\n  G20- inline 4 (I must admit that I cannot remeber for sure here)\\n\\nI hope this helps.\\n\\n-BSB\\n']\n"
          ]
        }
      ],
      "source": [
        "print(train_samples[:3])"
      ]
    },
    {
      "cell_type": "code",
      "execution_count": 14,
      "metadata": {
        "id": "B_ifAVsF2kFK",
        "colab": {
          "base_uri": "https://localhost:8080/"
        },
        "outputId": "c6ec986d-aa2c-4b9a-c7e9-a26e833335d5"
      },
      "outputs": [
        {
          "output_type": "stream",
          "name": "stdout",
          "text": [
            "[\"\\nWondering if either team are in town that weekend (5-30/5-31).\\n\\nI can probably get Phillies tix, as the Vet can hold a bunch (and\\nI hope they're still in 1st but it's late may, and...).  Camden\\nYards is a problem - is there any way of getting in the park w/o an SRO\\nticket?  Any advice if there at home?\\n\\nJoe Leonard\\njle@world.std.com\\n\\nP.S. Please reply directly, to keep the net down to a dull roar...\\n\"]\n"
          ]
        }
      ],
      "source": [
        "print(val_samples[:1])"
      ]
    },
    {
      "cell_type": "code",
      "execution_count": 15,
      "metadata": {
        "id": "j-OBbT1x2kFK",
        "colab": {
          "base_uri": "https://localhost:8080/"
        },
        "outputId": "3aadae4b-993f-4adb-a5e0-4dea90700da5"
      },
      "outputs": [
        {
          "output_type": "stream",
          "name": "stdout",
          "text": [
            "[10]\n"
          ]
        }
      ],
      "source": [
        "print(train_labels[:1])"
      ]
    },
    {
      "cell_type": "code",
      "execution_count": 16,
      "metadata": {
        "id": "-_efxN9K2kFK",
        "colab": {
          "base_uri": "https://localhost:8080/"
        },
        "outputId": "4e2bc09f-8871-424d-fe40-05cbcb4d19f3"
      },
      "outputs": [
        {
          "output_type": "stream",
          "name": "stdout",
          "text": [
            "[6]\n"
          ]
        }
      ],
      "source": [
        "print(val_labels[:1])"
      ]
    },
    {
      "cell_type": "markdown",
      "metadata": {
        "id": "IktOtKfpNx8E"
      },
      "source": [
        "# Tokenización de las palabras con TextVectorization"
      ]
    },
    {
      "cell_type": "code",
      "execution_count": 17,
      "metadata": {
        "id": "QjHgQPX8lCjO"
      },
      "outputs": [],
      "source": [
        "from tensorflow.keras.layers import TextVectorization\n",
        "vectorizer = TextVectorization(max_tokens=20000, output_sequence_length=200)\n",
        "text_ds = tf.data.Dataset.from_tensor_slices(train_samples).batch(128)\n",
        "vectorizer.adapt(text_ds)"
      ]
    },
    {
      "cell_type": "code",
      "execution_count": 18,
      "metadata": {
        "id": "vIWC37s5smZ4",
        "colab": {
          "base_uri": "https://localhost:8080/"
        },
        "outputId": "4ced7942-30e3-4471-f1f4-c6ff89cf1019"
      },
      "outputs": [
        {
          "output_type": "execute_result",
          "data": {
            "text/plain": [
              "['', '[UNK]', 'the', 'to', 'of']"
            ]
          },
          "metadata": {},
          "execution_count": 18
        }
      ],
      "source": [
        "vectorizer.get_vocabulary()[:5]"
      ]
    },
    {
      "cell_type": "code",
      "execution_count": 19,
      "metadata": {
        "id": "vit8TPqTvmwS",
        "colab": {
          "base_uri": "https://localhost:8080/"
        },
        "outputId": "1ffbc79f-4eea-42f9-caad-8535e80bcf54"
      },
      "outputs": [
        {
          "output_type": "execute_result",
          "data": {
            "text/plain": [
              "20000"
            ]
          },
          "metadata": {},
          "execution_count": 19
        }
      ],
      "source": [
        "len(vectorizer.get_vocabulary())"
      ]
    },
    {
      "cell_type": "markdown",
      "metadata": {
        "id": "2O-FXA9wPVkg"
      },
      "source": [
        "# Viendo la salida de Vectorizer"
      ]
    },
    {
      "cell_type": "code",
      "execution_count": 20,
      "metadata": {
        "id": "rseIF0fLmyJ0",
        "colab": {
          "base_uri": "https://localhost:8080/"
        },
        "outputId": "d51ca752-450e-4b5b-a25a-3ea305163aaa"
      },
      "outputs": [
        {
          "output_type": "execute_result",
          "data": {
            "text/plain": [
              "array([   2, 3791, 1973,   17,    2, 6348])"
            ]
          },
          "metadata": {},
          "execution_count": 20
        }
      ],
      "source": [
        "output = vectorizer([[\"the cat sat on the mat\"]])\n",
        "output.numpy()[0, :6]"
      ]
    },
    {
      "cell_type": "code",
      "execution_count": 21,
      "metadata": {
        "id": "Wsr4AQtBFArV",
        "colab": {
          "base_uri": "https://localhost:8080/"
        },
        "outputId": "16599931-2f97-4e16-818a-66d66a943cf3"
      },
      "outputs": [
        {
          "output_type": "execute_result",
          "data": {
            "text/plain": [
              "<tf.Tensor: shape=(1, 200), dtype=int64, numpy=\n",
              "array([[   2, 3791, 1973,   17,    2, 6348,    0,    0,    0,    0,    0,\n",
              "           0,    0,    0,    0,    0,    0,    0,    0,    0,    0,    0,\n",
              "           0,    0,    0,    0,    0,    0,    0,    0,    0,    0,    0,\n",
              "           0,    0,    0,    0,    0,    0,    0,    0,    0,    0,    0,\n",
              "           0,    0,    0,    0,    0,    0,    0,    0,    0,    0,    0,\n",
              "           0,    0,    0,    0,    0,    0,    0,    0,    0,    0,    0,\n",
              "           0,    0,    0,    0,    0,    0,    0,    0,    0,    0,    0,\n",
              "           0,    0,    0,    0,    0,    0,    0,    0,    0,    0,    0,\n",
              "           0,    0,    0,    0,    0,    0,    0,    0,    0,    0,    0,\n",
              "           0,    0,    0,    0,    0,    0,    0,    0,    0,    0,    0,\n",
              "           0,    0,    0,    0,    0,    0,    0,    0,    0,    0,    0,\n",
              "           0,    0,    0,    0,    0,    0,    0,    0,    0,    0,    0,\n",
              "           0,    0,    0,    0,    0,    0,    0,    0,    0,    0,    0,\n",
              "           0,    0,    0,    0,    0,    0,    0,    0,    0,    0,    0,\n",
              "           0,    0,    0,    0,    0,    0,    0,    0,    0,    0,    0,\n",
              "           0,    0,    0,    0,    0,    0,    0,    0,    0,    0,    0,\n",
              "           0,    0,    0,    0,    0,    0,    0,    0,    0,    0,    0,\n",
              "           0,    0,    0,    0,    0,    0,    0,    0,    0,    0,    0,\n",
              "           0,    0]])>"
            ]
          },
          "metadata": {},
          "execution_count": 21
        }
      ],
      "source": [
        "output"
      ]
    },
    {
      "cell_type": "code",
      "execution_count": 22,
      "metadata": {
        "id": "SL5ag8UamzwL"
      },
      "outputs": [],
      "source": [
        "voc = vectorizer.get_vocabulary()\n",
        "word_index = dict(zip(voc, range(len(voc))))"
      ]
    },
    {
      "cell_type": "code",
      "execution_count": 23,
      "metadata": {
        "id": "08v8SKcsn3lf",
        "colab": {
          "base_uri": "https://localhost:8080/"
        },
        "outputId": "c02e4f5e-220d-431f-963e-888667365f73"
      },
      "outputs": [
        {
          "output_type": "execute_result",
          "data": {
            "text/plain": [
              "[2, 3791, 1973, 17, 2, 6348]"
            ]
          },
          "metadata": {},
          "execution_count": 23
        }
      ],
      "source": [
        "test = [\"the\", \"cat\", \"sat\", \"on\", \"the\", \"mat\"]\n",
        "[word_index[w] for w in test]"
      ]
    },
    {
      "cell_type": "markdown",
      "metadata": {
        "id": "1eBhadrvOTNZ"
      },
      "source": [
        "# Tokenización de los datos de entrenamiento y validación"
      ]
    },
    {
      "cell_type": "code",
      "execution_count": 24,
      "metadata": {
        "id": "W26LUr2dKTOj"
      },
      "outputs": [],
      "source": [
        "x_train = vectorizer(np.array([[s] for s in train_samples])).numpy()\n",
        "x_val = vectorizer(np.array([[s] for s in val_samples])).numpy()\n",
        "\n",
        "y_train = np.array(train_labels)\n",
        "y_val = np.array(val_labels)"
      ]
    },
    {
      "cell_type": "markdown",
      "metadata": {
        "id": "q3QVIb84Olda"
      },
      "source": [
        "# Creación y entrenamiento del modelo"
      ]
    },
    {
      "cell_type": "code",
      "execution_count": 25,
      "metadata": {
        "id": "B9VxI-i69cdB"
      },
      "outputs": [],
      "source": [
        "# pon aquí tu"
      ]
    },
    {
      "cell_type": "markdown",
      "metadata": {
        "id": "v4x_4eXJVrnX"
      },
      "source": [
        "# Evaluación"
      ]
    },
    {
      "cell_type": "code",
      "execution_count": 26,
      "metadata": {
        "id": "fgg7KnoioNYc",
        "colab": {
          "base_uri": "https://localhost:8080/",
          "height": 211
        },
        "outputId": "4275e44c-d628-47c3-e30f-3fb342edfa03"
      },
      "outputs": [
        {
          "output_type": "error",
          "ename": "NameError",
          "evalue": "name 'modeloEmbeddingGloveTransformers' is not defined",
          "traceback": [
            "\u001b[0;31m---------------------------------------------------------------------------\u001b[0m",
            "\u001b[0;31mNameError\u001b[0m                                 Traceback (most recent call last)",
            "\u001b[0;32m<ipython-input-26-943cf2cb6f50>\u001b[0m in \u001b[0;36m<cell line: 0>\u001b[0;34m()\u001b[0m\n\u001b[1;32m      1\u001b[0m \u001b[0mstring_input\u001b[0m \u001b[0;34m=\u001b[0m \u001b[0mkeras\u001b[0m\u001b[0;34m.\u001b[0m\u001b[0mInput\u001b[0m\u001b[0;34m(\u001b[0m\u001b[0mshape\u001b[0m\u001b[0;34m=\u001b[0m\u001b[0;34m(\u001b[0m\u001b[0;36m1\u001b[0m\u001b[0;34m,\u001b[0m\u001b[0;34m)\u001b[0m\u001b[0;34m,\u001b[0m \u001b[0mdtype\u001b[0m\u001b[0;34m=\u001b[0m\u001b[0;34m\"string\"\u001b[0m\u001b[0;34m)\u001b[0m\u001b[0;34m\u001b[0m\u001b[0;34m\u001b[0m\u001b[0m\n\u001b[1;32m      2\u001b[0m \u001b[0mx\u001b[0m \u001b[0;34m=\u001b[0m \u001b[0mvectorizer\u001b[0m\u001b[0;34m(\u001b[0m\u001b[0mstring_input\u001b[0m\u001b[0;34m)\u001b[0m\u001b[0;34m\u001b[0m\u001b[0;34m\u001b[0m\u001b[0m\n\u001b[0;32m----> 3\u001b[0;31m \u001b[0mpreds\u001b[0m \u001b[0;34m=\u001b[0m \u001b[0mmodeloEmbeddingGloveTransformers\u001b[0m\u001b[0;34m(\u001b[0m\u001b[0mx\u001b[0m\u001b[0;34m)\u001b[0m\u001b[0;34m\u001b[0m\u001b[0;34m\u001b[0m\u001b[0m\n\u001b[0m\u001b[1;32m      4\u001b[0m \u001b[0mend_to_end_model\u001b[0m \u001b[0;34m=\u001b[0m \u001b[0mkeras\u001b[0m\u001b[0;34m.\u001b[0m\u001b[0mModel\u001b[0m\u001b[0;34m(\u001b[0m\u001b[0mstring_input\u001b[0m\u001b[0;34m,\u001b[0m \u001b[0mpreds\u001b[0m\u001b[0;34m)\u001b[0m\u001b[0;34m\u001b[0m\u001b[0;34m\u001b[0m\u001b[0m\n\u001b[1;32m      5\u001b[0m \u001b[0;34m\u001b[0m\u001b[0m\n",
            "\u001b[0;31mNameError\u001b[0m: name 'modeloEmbeddingGloveTransformers' is not defined"
          ]
        }
      ],
      "source": [
        "string_input = keras.Input(shape=(1,), dtype=\"string\")\n",
        "x = vectorizer(string_input)\n",
        "preds = modeloEmbeddingGloveTransformers(x)\n",
        "end_to_end_model = keras.Model(string_input, preds)\n",
        "\n",
        "probabilities = end_to_end_model.predict(\n",
        "    [[\"this message is about computer graphics and 3D modeling\"]]\n",
        ")\n",
        "\n",
        "class_names[np.argmax(probabilities[0])]"
      ]
    },
    {
      "cell_type": "code",
      "execution_count": null,
      "metadata": {
        "id": "R-EXfK6qoSAd"
      },
      "outputs": [],
      "source": [
        "probabilities = end_to_end_model.predict(\n",
        "    [[\"politics and federal courts law that people understand with politician and elects congressman\"]]\n",
        ")\n",
        "\n",
        "class_names[np.argmax(probabilities[0])]"
      ]
    },
    {
      "cell_type": "code",
      "execution_count": null,
      "metadata": {
        "id": "QByfYDv4rGqv"
      },
      "outputs": [],
      "source": [
        "probabilities = end_to_end_model.predict(\n",
        "    [[\"we are talking about religion\"]]\n",
        ")\n",
        "\n",
        "class_names[np.argmax(probabilities[0])]"
      ]
    }
  ],
  "metadata": {
    "accelerator": "GPU",
    "colab": {
      "provenance": [],
      "include_colab_link": true
    },
    "gpuClass": "standard",
    "kernelspec": {
      "display_name": "Python 3",
      "language": "python",
      "name": "python3"
    },
    "language_info": {
      "codemirror_mode": {
        "name": "ipython",
        "version": 3
      },
      "file_extension": ".py",
      "mimetype": "text/x-python",
      "name": "python",
      "nbconvert_exporter": "python",
      "pygments_lexer": "ipython3",
      "version": "3.8.3"
    }
  },
  "nbformat": 4,
  "nbformat_minor": 0
}